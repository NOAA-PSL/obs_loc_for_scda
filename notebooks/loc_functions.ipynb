{
 "cells": [
  {
   "cell_type": "markdown",
   "id": "9723035c-c9ef-4c14-8fca-ec2ec2c51c3a",
   "metadata": {},
   "source": [
    "# Plot localization functions for single column"
   ]
  },
  {
   "cell_type": "code",
   "execution_count": 1,
   "id": "299caa77-8529-48af-96b7-e8a5c96d5788",
   "metadata": {},
   "outputs": [],
   "source": [
    "import numpy as np\n",
    "import xarray as xr\n",
    "from cartopy import config\n",
    "import cartopy.crs as ccrs\n",
    "import cartopy.feature as cfeature\n",
    "import matplotlib.pyplot as plt\n",
    "import matplotlib.ticker as ticker\n",
    "from scipy import optimize"
   ]
  },
  {
   "cell_type": "code",
   "execution_count": 2,
   "id": "aac7b3c3-a882-4fde-ab85-b0e8075769b9",
   "metadata": {},
   "outputs": [
    {
     "name": "stdout",
     "output_type": "stream",
     "text": [
      "/Users/zstanley/Documents/git_repos/obs_loc_for_scda/scripts\n"
     ]
    }
   ],
   "source": [
    "cd /Users/zstanley/Documents/git_repos/obs_loc_for_scda/scripts"
   ]
  },
  {
   "cell_type": "code",
   "execution_count": 3,
   "id": "bca075fb-d0f9-4302-90ea-aad0ebf7d84e",
   "metadata": {},
   "outputs": [],
   "source": [
    "from post_processing_fns import *\n",
    "from letkf import *"
   ]
  },
  {
   "cell_type": "code",
   "execution_count": 4,
   "id": "eeedad83-c2f8-473e-a302-e9052e3b7e93",
   "metadata": {},
   "outputs": [],
   "source": [
    "these_columns = {\n",
    "  'lons' : [-154.5, 35.5, 75.5, -150.5, 160.5],\n",
    "  'lats' : [-27.5, -49.5, -31.5, 12.5, 40.5],\n",
    "  'name' : ['South Pacific', 'Southern Ocean', 'Indian Ocean', 'Tropical Pacific', 'North Pacific'],\n",
    "  'save_name' : ['south_pacific2', 'southern_ocean2', 'indian_ocean2', 'tropical_pacific2', 'north_pacific']\n",
    "}"
   ]
  },
  {
   "cell_type": "code",
   "execution_count": 5,
   "id": "c415a8ec-071c-4d08-bbcf-1eebb8fd363b",
   "metadata": {},
   "outputs": [],
   "source": [
    "## Where are we working\n",
    "proj_dir = '/Users/zstanley/Documents/git_repos/obs_loc_for_scda'\n",
    "plot_dir = proj_dir + '/plots/paper/'\n",
    "my_data_dir = proj_dir + '/my_data/20151206.030000'\n",
    "nb_dir = proj_dir + '/notebooks'"
   ]
  },
  {
   "cell_type": "code",
   "execution_count": 6,
   "id": "7bae3d95-aa9a-4aa0-87fb-244db75827f9",
   "metadata": {},
   "outputs": [],
   "source": [
    "raisin_black = [45/256, 42/256, 50/256]\n",
    "heliotrope_gray = [162/256, 155/256, 171/256]\n",
    "pacific_blue = [37/256, 162/256, 192/256]\n",
    "deep_saffron = [255/256, 145/256, 51/256]"
   ]
  },
  {
   "cell_type": "markdown",
   "id": "9ef5ead7-74f1-469a-a96b-6b19f8fa5a35",
   "metadata": {},
   "source": [
    "## Load correlations"
   ]
  },
  {
   "cell_type": "code",
   "execution_count": 7,
   "id": "7b2f4cfa-1622-4b82-bff9-da78a67d61cc",
   "metadata": {},
   "outputs": [],
   "source": [
    "# Load correlation matrices\n",
    "sp_corr_mat = np.load(my_data_dir +'/'+these_columns['save_name'][0]+'_cor.npy')\n",
    "so_corr_mat = np.load(my_data_dir +'/'+these_columns['save_name'][1]+'_cor.npy')\n",
    "io_corr_mat = np.load(my_data_dir +'/'+these_columns['save_name'][2]+'_cor.npy')\n",
    "tp_corr_mat = np.load(my_data_dir +'/'+these_columns['save_name'][3]+'_cor.npy')\n",
    "np_corr_mat = np.load(my_data_dir +'/'+these_columns['save_name'][4]+'_cor.npy')"
   ]
  },
  {
   "cell_type": "code",
   "execution_count": 8,
   "id": "bc5f000e-e752-4efa-b651-d0e907a74c83",
   "metadata": {},
   "outputs": [],
   "source": [
    "# Load covariance matrices\n",
    "sp_cov_mat = np.load(my_data_dir +'/'+these_columns['save_name'][0]+'_cov.npy')\n",
    "so_cov_mat = np.load(my_data_dir +'/'+these_columns['save_name'][1]+'_cov.npy')\n",
    "io_cov_mat = np.load(my_data_dir +'/'+these_columns['save_name'][2]+'_cov.npy')\n",
    "tp_cov_mat = np.load(my_data_dir +'/'+these_columns['save_name'][3]+'_cov.npy')\n",
    "np_cov_mat = np.load(my_data_dir +'/'+these_columns['save_name'][4]+'_cov.npy')"
   ]
  },
  {
   "cell_type": "code",
   "execution_count": 9,
   "id": "448f4946-d4e0-4d45-a4b5-821a3861f830",
   "metadata": {},
   "outputs": [],
   "source": [
    "## Load vertical columns\n",
    "south_pacific = xr.open_dataset(my_data_dir+'/five_columns_'+these_columns['save_name'][0]+'.nc')\n",
    "southern_ocean = xr.open_dataset(my_data_dir+'/five_columns_'+these_columns['save_name'][1]+'.nc')\n",
    "indian_ocean = xr.open_dataset(my_data_dir+'/five_columns_'+these_columns['save_name'][2]+'.nc')\n",
    "tropical_pacific = xr.open_dataset(my_data_dir+'/five_columns_'+these_columns['save_name'][3]+'.nc')\n",
    "north_pacific = xr.open_dataset(my_data_dir+'/five_columns_'+these_columns['save_name'][4]+'.nc')"
   ]
  },
  {
   "cell_type": "code",
   "execution_count": 10,
   "id": "09536ff3-0eb9-4837-8026-1e53b31bd190",
   "metadata": {},
   "outputs": [],
   "source": [
    "def ast_sst_corr_from_column(column):\n",
    "    ds_corr = xr.Dataset()\n",
    "    ds_corr['sst_atm_T'] = xr.corr(column['sst'], column['atm_T'], dim = 'ens_mem')\n",
    "    ds_corr['sst_ocn_T'] = xr.corr(column['sst'], column['ocn_Temp'], dim = 'ens_mem')\n",
    "    ds_corr['ast_atm_T'] = xr.corr(column['atm_t2m'], column['atm_T'], dim = 'ens_mem')\n",
    "    ds_corr['ast_ocn_T'] = xr.corr(column['atm_t2m'], column['ocn_Temp'], dim = 'ens_mem')\n",
    "    ds_corr['ocn_z'] = column['ocn_h'].mean(['ens_mem', 'lat', 'lon']).cumsum(dim='ocn_lev')\n",
    "    ds_corr['atm_p'] = column['atm_delp'].mean(['ens_mem', 'lat', 'lon']).cumsum(dim='atm_lev') / 1e2\n",
    "    ds_corr = ds_corr.mean(['lat', 'lon'])\n",
    "    return ds_corr"
   ]
  },
  {
   "cell_type": "code",
   "execution_count": 11,
   "id": "54abbfcf-b8a8-49a8-9c7b-cda5d3893402",
   "metadata": {},
   "outputs": [],
   "source": [
    "## Store ast and sst correlations\n",
    "sp_corr = ast_sst_corr_from_column(south_pacific)\n",
    "so_corr = ast_sst_corr_from_column(southern_ocean)\n",
    "io_corr = ast_sst_corr_from_column(indian_ocean)\n",
    "tp_corr = ast_sst_corr_from_column(tropical_pacific)\n",
    "np_corr = ast_sst_corr_from_column(north_pacific)"
   ]
  },
  {
   "cell_type": "code",
   "execution_count": 12,
   "id": "48999f33-5838-4673-adba-305b298e2438",
   "metadata": {},
   "outputs": [],
   "source": [
    "## Get indices\n",
    "# atmosphere\n",
    "num_atm_levs = len(south_pacific['atm_lev'])\n",
    "indt2m = num_atm_levs - 1\n",
    "ind100hPa = np.argmin(np.abs(sp_corr['atm_p'].values-100))\n",
    "ind500hPa = np.argmin(np.abs(sp_corr['atm_p'].values-500))\n",
    "# ocean\n",
    "ind0m = num_atm_levs\n",
    "ind150m_ocn = np.argmin(np.abs(sp_corr['ocn_z'].values-150))\n",
    "ind500m_ocn = np.argmin(np.abs(sp_corr['ocn_z'].values-500))\n",
    "ind400m_ocn = np.argmin(np.abs(sp_corr['ocn_z'].values-400))\n",
    "ind150m = ind0m + ind150m_ocn\n",
    "ind500m = ind0m + ind500m_ocn\n",
    "num_ocn_levs = len(south_pacific['ocn_lev'])"
   ]
  },
  {
   "cell_type": "code",
   "execution_count": 13,
   "id": "7b70de58-e0f8-4bec-bbcd-57a69456047c",
   "metadata": {},
   "outputs": [],
   "source": [
    "def get_ens_corr(corr_sqrt, ens_size):\n",
    "    num_levs = corr_sqrt.shape[0]\n",
    "    rnd = np.random.normal(size=(num_levs, ens_size))\n",
    "    x_err_ens = corr_sqrt @ rnd\n",
    "    C_ens = np.corrcoef(x_err_ens)\n",
    "    return C_ens"
   ]
  },
  {
   "cell_type": "code",
   "execution_count": 14,
   "id": "90b61a39-866b-4d0f-9678-070cb030b4fe",
   "metadata": {},
   "outputs": [],
   "source": [
    "def get_ens_cov(cov_sqrt, ens_size):\n",
    "    num_levs = cov_sqrt.shape[0]\n",
    "    rnd = np.random.normal(size=(num_levs, ens_size))\n",
    "    x_err_ens = cov_sqrt @ rnd\n",
    "    P_ens = np.cov(x_err_ens)\n",
    "    return P_ens"
   ]
  },
  {
   "cell_type": "code",
   "execution_count": 15,
   "id": "9f9ff319-eb20-4fb0-afab-43547b4d000b",
   "metadata": {},
   "outputs": [],
   "source": [
    "def get_multiple_ens_corrs(corr_sqrt, ens_size, ind_ob, num_trials):\n",
    "    corr_cols = np.empty([corr_sqrt.shape[0], num_trials])\n",
    "    for ii in range(num_trials):\n",
    "        ens_corr_mat = get_ens_corr(corr_sqrt, ens_size)\n",
    "        ens_cor_col = ens_corr_mat[:, ind_ob]\n",
    "        corr_cols[:, ii] = ens_cor_col\n",
    "    return corr_cols"
   ]
  },
  {
   "cell_type": "code",
   "execution_count": 16,
   "id": "3357e069-3351-41ca-9aac-16ef8752f1d4",
   "metadata": {},
   "outputs": [],
   "source": [
    "def get_multiple_ens_covs(cov_sqrt, ens_size, ind_ob, num_trials):\n",
    "    cov_cols = np.empty([cov_sqrt.shape[0], num_trials])\n",
    "    for ii in range(num_trials):\n",
    "        ens_cov_mat = get_ens_cov(cov_sqrt, ens_size)\n",
    "        ens_cov_col = ens_cov_mat[:, ind_ob]\n",
    "        cov_cols[:, ii] = ens_cov_col\n",
    "    return cov_cols"
   ]
  },
  {
   "cell_type": "code",
   "execution_count": 17,
   "id": "434cc758-e7b6-471a-87cc-393a7c75f70d",
   "metadata": {},
   "outputs": [],
   "source": [
    "def bump(avg_squared_correlations, ens_size):\n",
    "    prefactor = (ens_size - 1) / ( (ens_size+1) * (ens_size-2) )\n",
    "    opt_loc = prefactor * ( (ens_size-1) - np.reciprocal(avg_squared_correlations))\n",
    "    #prefactor = (ens_size - 1 ) / (ens_size**2)\n",
    "    #opt_loc = prefactor * ( ens_size - np.reciprocal(avg_squared_correlations) )\n",
    "    return opt_loc"
   ]
  },
  {
   "cell_type": "code",
   "execution_count": 18,
   "id": "90745bd1-c123-4082-98cb-7002d519ec42",
   "metadata": {},
   "outputs": [],
   "source": [
    "ind_state = np.arange(ind100hPa, ind500m)\n",
    "ind_ast = ind0m - ind100hPa - 1\n",
    "ind_sst = ind_ast + 1"
   ]
  },
  {
   "cell_type": "code",
   "execution_count": 19,
   "id": "bc88ee62-beac-4479-928d-4de9ded456c3",
   "metadata": {},
   "outputs": [],
   "source": [
    "tp_corr_mat_clipped = tp_corr_mat[np.ix_(ind_state, ind_state)]\n",
    "tp_corr_sqrt = np.linalg.cholesky(tp_corr_mat_clipped)"
   ]
  },
  {
   "cell_type": "code",
   "execution_count": 20,
   "id": "21cfce56-f425-4e92-985d-08506202480d",
   "metadata": {},
   "outputs": [],
   "source": [
    "tp_cov_mat_clipped = tp_cov_mat[np.ix_(ind_state, ind_state)]\n",
    "tp_cov_sqrt = np.linalg.cholesky(tp_cov_mat_clipped)"
   ]
  },
  {
   "cell_type": "code",
   "execution_count": 21,
   "id": "8f86dc52-68b1-4a67-8574-2b3d56ed244f",
   "metadata": {},
   "outputs": [],
   "source": [
    "ens_corr_ast = get_multiple_ens_corrs(tp_corr_sqrt, 20, ind_ast, 1000)\n",
    "ens_corr_sst = get_multiple_ens_corrs(tp_corr_sqrt, 20, ind_sst, 1000)"
   ]
  },
  {
   "cell_type": "code",
   "execution_count": 22,
   "id": "6c70767d-8eb3-4810-b324-4a0f8eace8cb",
   "metadata": {},
   "outputs": [],
   "source": [
    "ens_cov_ast = get_multiple_ens_covs(tp_cov_sqrt, 20, ind_ast, 1000)\n",
    "ens_cov_sst = get_multiple_ens_covs(tp_cov_sqrt, 20, ind_sst, 1000)"
   ]
  },
  {
   "cell_type": "code",
   "execution_count": 23,
   "id": "2bdd8fbb-9f2a-42da-a5a7-bea748168379",
   "metadata": {},
   "outputs": [],
   "source": [
    "true_corr_ast = tp_corr_mat_clipped[ind_ast, :]\n",
    "true_corr_sst = tp_corr_mat_clipped[ind_sst, :]"
   ]
  },
  {
   "cell_type": "code",
   "execution_count": 24,
   "id": "ce6b86c2-b3ac-45e7-89d5-a83364a404be",
   "metadata": {},
   "outputs": [],
   "source": [
    "true_cov_ast = tp_cov_mat_clipped[ind_ast, :]\n",
    "true_cov_sst = tp_cov_mat_clipped[ind_sst, :]"
   ]
  },
  {
   "cell_type": "code",
   "execution_count": 25,
   "id": "c6a29c4f-76b0-412c-be33-666a0ba3ae74",
   "metadata": {},
   "outputs": [],
   "source": [
    "# AST\n",
    "ens_corr_ast_avg = np.mean(ens_corr_ast, axis=1)\n",
    "ens_corr_ast_std = np.std(ens_corr_ast, axis=1)\n",
    "ens_corr_ast_p05 = np.percentile(ens_corr_ast, 5, axis=1)\n",
    "ens_corr_ast_p95 = np.percentile(ens_corr_ast, 95, axis=1)\n",
    "ens_corr_ast_sdl = ens_corr_ast_avg - ens_corr_ast_std\n",
    "ens_corr_ast_sdu = ens_corr_ast_avg + ens_corr_ast_std\n",
    "# SST\n",
    "ens_corr_sst_avg = np.mean(ens_corr_sst, axis=1)\n",
    "ens_corr_sst_std = np.std(ens_corr_sst, axis=1)\n",
    "ens_corr_sst_p05 = np.percentile(ens_corr_sst, 5, axis=1)\n",
    "ens_corr_sst_p95 = np.percentile(ens_corr_sst, 95, axis=1)\n",
    "ens_corr_sst_sdl = ens_corr_sst_avg - ens_corr_sst_std\n",
    "ens_corr_sst_sdu = ens_corr_sst_avg + ens_corr_sst_std"
   ]
  },
  {
   "cell_type": "markdown",
   "id": "535354b3-607f-44ad-87d0-6e2c4ac0820d",
   "metadata": {},
   "source": [
    "## Get optimal localization weights"
   ]
  },
  {
   "cell_type": "code",
   "execution_count": 26,
   "id": "bc79467f-02ad-482a-9966-aa35bc00cfd0",
   "metadata": {},
   "outputs": [],
   "source": [
    "ens_true_prod_ast = ens_corr_ast * np.tile(true_corr_ast, [1000,1]).transpose()\n",
    "ens_true_prod_sst = ens_corr_sst * np.tile(true_corr_sst, [1000,1]).transpose()"
   ]
  },
  {
   "cell_type": "code",
   "execution_count": 27,
   "id": "b71ed030-b3ab-44b0-a83f-87d7a1f449b2",
   "metadata": {},
   "outputs": [],
   "source": [
    "ens_square_ast = np.square(ens_corr_ast)\n",
    "ens_square_sst = np.square(ens_corr_sst)"
   ]
  },
  {
   "cell_type": "code",
   "execution_count": 28,
   "id": "af524829-989f-4d35-9761-d16cd6d0d538",
   "metadata": {},
   "outputs": [],
   "source": [
    "opt_loc_ast = np.divide( np.sum(ens_true_prod_ast, axis=1), np.sum(ens_square_ast, axis=1) )\n",
    "opt_loc_sst = np.divide( np.sum(ens_true_prod_sst, axis=1), np.sum(ens_square_sst, axis=1) )"
   ]
  },
  {
   "cell_type": "code",
   "execution_count": 29,
   "id": "f5013dca-c507-4c7e-b900-165855aa024c",
   "metadata": {},
   "outputs": [],
   "source": [
    "ens_true_prod_cov_ast = ens_cov_ast * np.tile(true_cov_ast, [1000,1]).transpose()\n",
    "ens_true_prod_cov_sst = ens_cov_sst * np.tile(true_cov_sst, [1000,1]).transpose()"
   ]
  },
  {
   "cell_type": "code",
   "execution_count": 30,
   "id": "da643876-75a8-4806-bf9e-b12730cbedb2",
   "metadata": {},
   "outputs": [],
   "source": [
    "ens_square_cov_ast = np.square(ens_cov_ast)\n",
    "ens_square_cov_sst = np.square(ens_cov_sst)"
   ]
  },
  {
   "cell_type": "code",
   "execution_count": 31,
   "id": "73ddcc9c-84f5-4fe8-8cb9-b0a5dd33ce2b",
   "metadata": {},
   "outputs": [],
   "source": [
    "opt_loc_cov_ast = np.divide( np.sum(ens_true_prod_cov_ast, axis=1), np.sum(ens_square_cov_ast, axis=1) )\n",
    "opt_loc_cov_sst = np.divide( np.sum(ens_true_prod_cov_sst, axis=1), np.sum(ens_square_cov_sst, axis=1) )"
   ]
  },
  {
   "cell_type": "code",
   "execution_count": 32,
   "id": "fbdb8349-9f4d-4280-bcd0-a2134a494a04",
   "metadata": {},
   "outputs": [],
   "source": [
    "bump_ast = bump(np.mean(ens_square_ast, axis=1), 20)\n",
    "bump_sst = bump(np.mean(ens_square_sst, axis=1), 20)"
   ]
  },
  {
   "cell_type": "markdown",
   "id": "e568c9d4-a77c-444c-8425-9f505de33349",
   "metadata": {},
   "source": [
    "## Find optimal R-localization"
   ]
  },
  {
   "cell_type": "code",
   "execution_count": 33,
   "id": "c9fae5a6-6a5b-4cc9-861e-dd2d50f85d95",
   "metadata": {},
   "outputs": [],
   "source": [
    "def kalman_gain_error_by_level(loc_weight, true_gain, ens_covs, r, ind_ob, lev):\n",
    "    true_gain = true_gain[lev]\n",
    "    denom = ( ens_covs[ind_ob, :] + loc_weight * r)\n",
    "    ens_gains = ens_covs[lev, :] / denom\n",
    "    error = np.sum( np.square(true_gain - ens_gains) )\n",
    "    return error"
   ]
  },
  {
   "cell_type": "code",
   "execution_count": 34,
   "id": "3e5e38df-a462-4e1d-a081-e1224ea9db0c",
   "metadata": {},
   "outputs": [],
   "source": [
    "tp_cov_mat_clipped = tp_cov_mat[np.ix_(ind_state, ind_state)]\n",
    "tp_cov_sqrt = np.linalg.cholesky(tp_cov_mat_clipped)"
   ]
  },
  {
   "cell_type": "code",
   "execution_count": 35,
   "id": "efd61eba-76b3-4e3b-b2ff-e3dfb720c674",
   "metadata": {},
   "outputs": [],
   "source": [
    "ens_cov_ast = get_multiple_ens_covs(tp_cov_sqrt, 20, ind_ast, 1000)\n",
    "ens_cov_sst = get_multiple_ens_covs(tp_cov_sqrt, 20, ind_sst, 1000)"
   ]
  },
  {
   "cell_type": "code",
   "execution_count": 36,
   "id": "52782b89-ba1e-4a8d-878e-f81a2b90360f",
   "metadata": {},
   "outputs": [],
   "source": [
    "true_cov_ast = tp_cov_mat_clipped[ind_ast, :]\n",
    "true_cov_sst = tp_cov_mat_clipped[ind_sst, :]"
   ]
  },
  {
   "cell_type": "code",
   "execution_count": 37,
   "id": "e989352b-b593-4c72-b9d5-46f4a872a239",
   "metadata": {},
   "outputs": [],
   "source": [
    "R_ast = true_cov_ast[ind_ast]\n",
    "R_sst = true_cov_sst[ind_sst]"
   ]
  },
  {
   "cell_type": "code",
   "execution_count": 38,
   "id": "d71fb981-9743-4965-abe2-ff99569ca8e6",
   "metadata": {},
   "outputs": [],
   "source": [
    "true_kalman_gain_ast = true_cov_ast / (2*R_ast)\n",
    "true_kalman_gain_sst = true_cov_sst / (2*R_sst)"
   ]
  },
  {
   "cell_type": "code",
   "execution_count": 39,
   "id": "276b6cc1-db20-4ec2-beef-21e041c7f09a",
   "metadata": {},
   "outputs": [],
   "source": [
    "num_levs = len(true_kalman_gain_ast)\n",
    "r_loc_ast = np.empty(num_levs)\n",
    "r_loc_sst = np.empty(num_levs)\n",
    "for level in range(num_levs):\n",
    "    result_ast = optimize.minimize_scalar(kalman_gain_error_by_level, args=(true_kalman_gain_ast, ens_cov_ast, R_ast, ind_ast, level))\n",
    "    result_sst = optimize.minimize_scalar(kalman_gain_error_by_level, args=(true_kalman_gain_sst, ens_cov_sst, R_sst, ind_sst, level))\n",
    "    r_loc_ast[level] = result_ast.x\n",
    "    r_loc_sst[level] = result_sst.x"
   ]
  },
  {
   "cell_type": "code",
   "execution_count": 40,
   "id": "758dea22-32ae-4f39-ad7e-42d15ed89339",
   "metadata": {},
   "outputs": [],
   "source": [
    "# Ensemble Kalman gain for ast\n",
    "ens_k_ast  = ens_cov_ast / ( np.tile(ens_cov_ast[ind_ast,:], [num_levs,1]) + R_ast * np.tile(r_loc_ast, [1000,1]).transpose() )\n",
    "ens_k_unloc_ast  = ens_cov_ast / ( np.tile(ens_cov_ast[ind_ast,:], [num_levs,1]) + R_ast )\n",
    "effective_loc_ast = np.mean(np.divide(ens_k_ast, ens_k_unloc_ast), axis=1)\n",
    "# Ensemble Kalman gain for sst\n",
    "ens_k_sst  = ens_cov_sst / ( np.tile(ens_cov_sst[ind_sst,:], [num_levs,1]) + R_sst * np.tile(r_loc_sst, [1000,1]).transpose() )\n",
    "ens_k_unloc_sst  = ens_cov_sst / ( np.tile(ens_cov_sst[ind_sst,:], [num_levs,1]) + R_sst )\n",
    "effective_loc_sst = np.mean(np.divide(ens_k_sst, ens_k_unloc_sst), axis=1)"
   ]
  },
  {
   "cell_type": "markdown",
   "id": "b72ad736-f2db-4573-af77-bc639efeaece",
   "metadata": {},
   "source": [
    "## Find optimal GC localization"
   ]
  },
  {
   "cell_type": "code",
   "execution_count": 41,
   "id": "8183df9e-b905-4ab6-b86f-5371dea3594c",
   "metadata": {},
   "outputs": [],
   "source": [
    "def error_corr_with_gc_no_factor(loc_rad, true_corr, ens_corrs, dist):\n",
    "    ''' Error in correlation matrix (model space) '''\n",
    "    num_levs, num_trials = ens_corrs.shape\n",
    "    loc = gaspari_cohn(dist/(loc_rad/2))\n",
    "    loc_expand = np.tile(loc, [num_trials, 1]).transpose()\n",
    "    true_corr_expand = np.tile(true_corr, [num_trials, 1]).transpose()\n",
    "    error = np.mean(np.square(true_corr_expand - loc_expand * ens_corrs))\n",
    "    return error"
   ]
  },
  {
   "cell_type": "code",
   "execution_count": 42,
   "id": "82740333-e9eb-4c7e-9ea3-a3dd099cd2f7",
   "metadata": {},
   "outputs": [],
   "source": [
    "def error_corr_with_gc(inputs, true_corr, ens_corrs, dist):\n",
    "    ''' Error in correlation matrix (model space) '''\n",
    "    loc_rad = inputs[0]\n",
    "    mult_factor = inputs[1]\n",
    "    num_levs, num_trials = ens_corrs.shape\n",
    "    loc = mult_factor * gaspari_cohn(dist/(loc_rad/2))\n",
    "    loc_expand = np.tile(loc, [num_trials, 1]).transpose()\n",
    "    true_corr_expand = np.tile(true_corr, [num_trials, 1]).transpose()\n",
    "    error = np.mean(np.square(true_corr_expand - loc_expand * ens_corrs))\n",
    "    return error"
   ]
  },
  {
   "cell_type": "code",
   "execution_count": 43,
   "id": "94ec4eaf-2333-4fb9-aef7-532cc76a092b",
   "metadata": {},
   "outputs": [],
   "source": [
    "ocn_z = tp_corr['ocn_z'][:ind500m_ocn]\n",
    "atm_p = tp_corr['atm_p'][ind100hPa:]"
   ]
  },
  {
   "cell_type": "code",
   "execution_count": 44,
   "id": "815e6a07-48ff-48d9-8a3d-e8b2fdefe3ab",
   "metadata": {},
   "outputs": [],
   "source": [
    "dist_ocn = ocn_z - ocn_z[0]\n",
    "dist_atm = np.abs(np.log(atm_p) - np.log(atm_p[-1]))"
   ]
  },
  {
   "cell_type": "code",
   "execution_count": 45,
   "id": "2b99c5d8-da3a-4c6d-b22a-51b155c489c9",
   "metadata": {},
   "outputs": [],
   "source": [
    "# Ensemble correlations\n",
    "ens_corr_ast_atm = ens_corr_ast[:ind_sst, :]\n",
    "ens_corr_ast_ocn = ens_corr_ast[ind_sst:, :]\n",
    "ens_corr_sst_atm = ens_corr_sst[:ind_sst, :]\n",
    "ens_corr_sst_ocn = ens_corr_sst[ind_sst:, :]\n",
    "# True correlations\n",
    "true_corr_ast_atm = true_corr_ast[:ind_sst]\n",
    "true_corr_ast_ocn = true_corr_ast[ind_sst:]\n",
    "true_corr_sst_atm = true_corr_sst[:ind_sst]\n",
    "true_corr_sst_ocn = true_corr_sst[ind_sst:]"
   ]
  },
  {
   "cell_type": "code",
   "execution_count": 46,
   "id": "0f60aad9-5d54-47d6-9bbf-88557dae2d72",
   "metadata": {},
   "outputs": [],
   "source": [
    "# no multiplicative factor\n",
    "gc_loc_rad_ast_atm = optimize.minimize_scalar(error_corr_with_gc_no_factor, args=(true_corr_ast_atm, ens_corr_ast_atm, dist_atm)).x\n",
    "gc_loc_rad_ast_ocn = optimize.minimize_scalar(error_corr_with_gc_no_factor, args=(true_corr_ast_ocn, ens_corr_ast_ocn, dist_ocn)).x\n",
    "gc_loc_rad_sst_atm = optimize.minimize_scalar(error_corr_with_gc_no_factor, args=(true_corr_sst_atm, ens_corr_sst_atm, dist_atm)).x\n",
    "gc_loc_rad_sst_ocn = optimize.minimize_scalar(error_corr_with_gc_no_factor, args=(true_corr_sst_ocn, ens_corr_sst_ocn, dist_ocn)).x"
   ]
  },
  {
   "cell_type": "code",
   "execution_count": 47,
   "id": "00fb3182-d324-4e9c-b8a1-e90088ca3e28",
   "metadata": {},
   "outputs": [],
   "source": [
    "# with multplicative factor\n",
    "gc_locrad_multfact_ast_atm = optimize.minimize(error_corr_with_gc, x0=[.5, 1], args=(true_corr_ast_atm, ens_corr_ast_atm, dist_atm), method='nelder-mead').x\n",
    "gc_locrad_multfact_ast_ocn = optimize.minimize(error_corr_with_gc, x0=[50, 1], args=(true_corr_ast_ocn, ens_corr_ast_ocn, dist_ocn), method='nelder-mead').x\n",
    "gc_locrad_multfact_sst_atm = optimize.minimize(error_corr_with_gc, x0=[.5, 1], args=(true_corr_sst_atm, ens_corr_sst_atm, dist_atm), method='nelder-mead').x\n",
    "gc_locrad_multfact_sst_ocn = optimize.minimize(error_corr_with_gc, x0=[50, 1], args=(true_corr_sst_ocn, ens_corr_sst_ocn, dist_ocn), method='nelder-mead').x"
   ]
  },
  {
   "cell_type": "code",
   "execution_count": 48,
   "id": "571863df-fabe-4f44-9370-1cfc8ba62022",
   "metadata": {},
   "outputs": [],
   "source": [
    "# no multiplicative factor\n",
    "gc_loc_ast_atm = gaspari_cohn(dist_atm/(gc_loc_rad_ast_atm/2))\n",
    "gc_loc_ast_ocn = gaspari_cohn(dist_ocn/(gc_loc_rad_ast_ocn/2))\n",
    "gc_loc_sst_atm = gaspari_cohn(dist_atm/(gc_loc_rad_sst_atm/2))\n",
    "gc_loc_sst_ocn = gaspari_cohn(dist_ocn/(gc_loc_rad_sst_ocn/2))\n",
    "# with multiplicative factor\n",
    "gc_loc_plus_ast_atm = gc_locrad_multfact_ast_atm[1] * gaspari_cohn(dist_atm/(gc_locrad_multfact_ast_atm[0]/2))\n",
    "gc_loc_plus_ast_ocn = gc_locrad_multfact_ast_ocn[1] * gaspari_cohn(dist_ocn/(gc_locrad_multfact_ast_ocn[0]/2))\n",
    "gc_loc_plus_sst_atm = gc_locrad_multfact_sst_atm[1] * gaspari_cohn(dist_atm/(gc_locrad_multfact_sst_atm[0]/2))\n",
    "gc_loc_plus_sst_ocn = gc_locrad_multfact_sst_ocn[1] * gaspari_cohn(dist_ocn/(gc_locrad_multfact_sst_ocn[0]/2))"
   ]
  },
  {
   "cell_type": "markdown",
   "id": "4e0cc65d-0958-4f8c-b24f-15038d70131b",
   "metadata": {},
   "source": [
    "## Optimal GC for R-matrix localization"
   ]
  },
  {
   "cell_type": "code",
   "execution_count": 50,
   "id": "f91e6fbe-897f-40f9-a5ba-9c972a630e1f",
   "metadata": {
    "tags": []
   },
   "outputs": [],
   "source": [
    "def kalman_gain_vector(ens_covs, loc, hbht, r):\n",
    "    # Get shape\n",
    "    num_levs, num_trials = ens_covs.shape\n",
    "    # Don't divide by zero\n",
    "    these_levels = (loc>0)\n",
    "    loc = loc[these_levels]\n",
    "    num_nonzero_levs = np.sum(these_levels)\n",
    "    # Compute denominator\n",
    "    loc_expand = np.tile(loc, [num_trials, 1]).transpose()\n",
    "    hbht_expand = np.tile(hbht, [num_nonzero_levs, 1])\n",
    "    denom = ( hbht_expand + r / loc_expand)\n",
    "    # Compute ensemble gains\n",
    "    ens_gains = np.zeros([num_levs, num_trials])\n",
    "    ens_gains[these_levels] = np.divide(ens_covs[these_levels,:], denom)\n",
    "    return ens_gains"
   ]
  },
  {
   "cell_type": "code",
   "execution_count": 51,
   "id": "c07f3abc-a2c9-47d2-a7ca-cd871d9da850",
   "metadata": {
    "tags": []
   },
   "outputs": [],
   "source": [
    "def kalman_gain_vector_no_loc(ens_covs, hbht, r):\n",
    "    # Get shape\n",
    "    num_levs, num_trials = ens_covs.shape\n",
    "    # Don't divide by zero\n",
    "    # Compute denominator\n",
    "    denom = ( hbht + r )\n",
    "    # Compute ensemble gains\n",
    "    ens_gains = np.divide(ens_covs, denom)\n",
    "    return ens_gains"
   ]
  },
  {
   "cell_type": "code",
   "execution_count": 52,
   "id": "9f33946b-39df-49df-9710-19a4a7ccf926",
   "metadata": {
    "tags": []
   },
   "outputs": [],
   "source": [
    "def kalman_gain_error_gc_no_atten(loc_rad, true_gain, ens_covs, r, hbht, dist):\n",
    "    '''Error in Kalman gain (obs space)'''\n",
    "    num_levs, num_trials = ens_covs.shape\n",
    "    # Compute localization\n",
    "    loc = gaspari_cohn(dist/(loc_rad/2))\n",
    "    # Compute Kalman gains\n",
    "    ens_gains = kalman_gain_vector(ens_covs, loc, hbht, r)\n",
    "    # Compute error\n",
    "    true_gain_expand = np.tile(true_gain, [num_trials, 1]).transpose()\n",
    "    error = np.mean( np.square(true_gain_expand - ens_gains) )\n",
    "    return error"
   ]
  },
  {
   "cell_type": "code",
   "execution_count": 53,
   "id": "4d025b5d-47ce-4ba6-b1c1-f39cef3e7169",
   "metadata": {
    "tags": []
   },
   "outputs": [],
   "source": [
    "def kalman_gain_error_gc(inputs, true_gain, ens_covs, r, hbht, dist):\n",
    "    '''Error in Kalman gain (obs space)'''\n",
    "    loc_rad = inputs[0]\n",
    "    mult_factor = inputs[1]\n",
    "    '''Error in Kalman gain (obs space)'''\n",
    "    num_levs, num_trials = ens_covs.shape\n",
    "    # Compute localization\n",
    "    loc = mult_factor * gaspari_cohn(dist/(loc_rad/2))\n",
    "    # Compute ensemble gains\n",
    "    ens_gains = kalman_gain_vector(ens_covs, loc, hbht, r)\n",
    "    # Compute error\n",
    "    true_gain_expand = np.tile(true_gain, [num_trials, 1]).transpose()\n",
    "    error = np.mean( np.square(true_gain_expand - ens_gains) )\n",
    "    return error"
   ]
  },
  {
   "cell_type": "code",
   "execution_count": 54,
   "id": "5f303308-d17e-4ee5-a2ca-ba54ab308388",
   "metadata": {
    "tags": []
   },
   "outputs": [],
   "source": [
    "# Ensemble covariances\n",
    "ens_cov_ast_atm = ens_cov_ast[:ind_sst, :]\n",
    "ens_cov_ast_ocn = ens_cov_ast[ind_sst:, :]\n",
    "ens_cov_sst_atm = ens_cov_sst[:ind_sst, :]\n",
    "ens_cov_sst_ocn = ens_cov_sst[ind_sst:, :]\n",
    "# Ensemble HBHT\n",
    "ens_cov_ast_ast = ens_cov_ast[ind_ast, :]\n",
    "ens_cov_sst_sst = ens_cov_sst[ind_sst, :]\n",
    "# True kalman gains\n",
    "true_kalman_gain_ast_atm = true_kalman_gain_ast[:ind_sst]\n",
    "true_kalman_gain_ast_ocn = true_kalman_gain_ast[ind_sst:]\n",
    "true_kalman_gain_sst_atm = true_kalman_gain_sst[:ind_sst]\n",
    "true_kalman_gain_sst_ocn = true_kalman_gain_sst[ind_sst:]"
   ]
  },
  {
   "cell_type": "code",
   "execution_count": 55,
   "id": "12c8e817-4830-4400-ad51-7d1ac59919a3",
   "metadata": {
    "tags": []
   },
   "outputs": [],
   "source": [
    "# no multiplicative factor\n",
    "gc_rloc_rad_ast_atm = optimize.minimize_scalar(kalman_gain_error_gc_no_atten, args=(true_kalman_gain_ast_atm, ens_cov_ast_atm, R_ast, ens_cov_ast_ast, dist_atm)).x\n",
    "gc_rloc_rad_ast_ocn = optimize.minimize_scalar(kalman_gain_error_gc_no_atten, args=(true_kalman_gain_ast_ocn, ens_cov_ast_ocn, R_ast, ens_cov_ast_ast, dist_ocn)).x\n",
    "gc_rloc_rad_sst_atm = optimize.minimize_scalar(kalman_gain_error_gc_no_atten, args=(true_kalman_gain_sst_atm, ens_cov_sst_atm, R_sst, ens_cov_sst_sst, dist_atm)).x\n",
    "gc_rloc_rad_sst_ocn = optimize.minimize_scalar(kalman_gain_error_gc_no_atten, args=(true_kalman_gain_sst_ocn, ens_cov_sst_ocn, R_sst, ens_cov_sst_sst, dist_ocn)).x"
   ]
  },
  {
   "cell_type": "code",
   "execution_count": 56,
   "id": "627240fc-7f85-48e9-be5c-c419efb1d052",
   "metadata": {
    "tags": []
   },
   "outputs": [],
   "source": [
    "# with multplicative factor\n",
    "gc_rlocrad_multfact_ast_atm = optimize.minimize(kalman_gain_error_gc, x0=[.5, 1], args=(true_kalman_gain_ast_atm, ens_cov_ast_atm, R_ast, ens_cov_ast_ast, dist_atm), method='nelder-mead').x\n",
    "gc_rlocrad_multfact_ast_ocn = optimize.minimize(kalman_gain_error_gc, x0=[50, 1], args=(true_kalman_gain_ast_ocn, ens_cov_ast_ocn, R_ast, ens_cov_ast_ast, dist_ocn), method='nelder-mead').x\n",
    "gc_rlocrad_multfact_sst_atm = optimize.minimize(kalman_gain_error_gc, x0=[.5, 1], args=(true_kalman_gain_sst_atm, ens_cov_sst_atm, R_sst, ens_cov_sst_sst, dist_atm), method='nelder-mead').x\n",
    "gc_rlocrad_multfact_sst_ocn = optimize.minimize(kalman_gain_error_gc, x0=[50, 1], args=(true_kalman_gain_sst_ocn, ens_cov_sst_ocn, R_sst, ens_cov_sst_sst, dist_ocn), method='nelder-mead').x"
   ]
  },
  {
   "cell_type": "code",
   "execution_count": 57,
   "id": "149cb151-81a0-49ea-ab38-34632e172516",
   "metadata": {
    "tags": []
   },
   "outputs": [],
   "source": [
    "# no multiplicative factor\n",
    "gc_rloc_ast_atm = gaspari_cohn(dist_atm/(gc_rloc_rad_ast_atm/2))\n",
    "gc_rloc_ast_ocn = gaspari_cohn(dist_ocn/(gc_rloc_rad_ast_ocn/2))\n",
    "gc_rloc_sst_atm = gaspari_cohn(dist_atm/(gc_rloc_rad_sst_atm/2))\n",
    "gc_rloc_sst_ocn = gaspari_cohn(dist_ocn/(gc_rloc_rad_sst_ocn/2))\n",
    "# with multiplicative factor\n",
    "gc_rloc_atten_ast_atm = gc_rlocrad_multfact_ast_atm[1] * gaspari_cohn(dist_atm/(gc_rlocrad_multfact_ast_atm[0]/2))\n",
    "gc_rloc_atten_ast_ocn = gc_rlocrad_multfact_ast_ocn[1] * gaspari_cohn(dist_ocn/(gc_rlocrad_multfact_ast_ocn[0]/2))\n",
    "gc_rloc_atten_sst_atm = gc_rlocrad_multfact_sst_atm[1] * gaspari_cohn(dist_atm/(gc_rlocrad_multfact_sst_atm[0]/2))\n",
    "gc_rloc_atten_sst_ocn = gc_rlocrad_multfact_sst_ocn[1] * gaspari_cohn(dist_ocn/(gc_rlocrad_multfact_sst_ocn[0]/2))"
   ]
  },
  {
   "cell_type": "code",
   "execution_count": 58,
   "id": "74551990-10fe-4096-bc2a-269c7b10977d",
   "metadata": {
    "tags": []
   },
   "outputs": [],
   "source": [
    "# Ensemble Kalman gain for ast\n",
    "# atm\n",
    "ens_k_ast_atm  = kalman_gain_vector(ens_cov_ast_atm, gc_rloc_ast_atm, ens_cov_ast_ast, R_ast)\n",
    "ens_k_atten_ast_atm  = kalman_gain_vector(ens_cov_ast_atm, gc_rloc_atten_ast_atm, ens_cov_ast_ast, R_ast)\n",
    "ens_k_unloc_ast_atm  = kalman_gain_vector_no_loc(ens_cov_ast_atm, ens_cov_ast_ast, R_ast)\n",
    "effective_loc_ast_atm = np.mean(np.divide(ens_k_ast_atm, ens_k_unloc_ast_atm), axis=1)\n",
    "effective_loc_atten_ast_atm = np.mean(np.divide(ens_k_atten_ast_atm, ens_k_unloc_ast_atm), axis=1)\n",
    "# ocn\n",
    "ens_k_ast_ocn  = kalman_gain_vector(ens_cov_ast_ocn, gc_rloc_ast_ocn, ens_cov_ast_ast, R_ast)\n",
    "ens_k_atten_ast_ocn  = kalman_gain_vector(ens_cov_ast_ocn, gc_rloc_atten_ast_ocn, ens_cov_ast_ast, R_ast)\n",
    "ens_k_unloc_ast_ocn  = kalman_gain_vector_no_loc(ens_cov_ast_ocn, ens_cov_ast_ast, R_ast)\n",
    "effective_loc_ast_ocn = np.mean(np.divide(ens_k_ast_ocn, ens_k_unloc_ast_ocn), axis=1)\n",
    "effective_loc_atten_ast_ocn = np.mean(np.divide(ens_k_atten_ast_ocn, ens_k_unloc_ast_ocn), axis=1)\n",
    "# Ensemble Kalman gain for sst\n",
    "# atm\n",
    "ens_k_sst_atm  = kalman_gain_vector(ens_cov_sst_atm, gc_rloc_sst_atm, ens_cov_sst_sst, R_sst)\n",
    "ens_k_atten_sst_atm  = kalman_gain_vector(ens_cov_sst_atm, gc_rloc_atten_sst_atm, ens_cov_sst_sst, R_sst)\n",
    "ens_k_unloc_sst_atm  = kalman_gain_vector_no_loc(ens_cov_sst_atm, ens_cov_sst_sst, R_sst)\n",
    "effective_loc_sst_atm = np.mean(np.divide(ens_k_sst_atm, ens_k_unloc_sst_atm), axis=1)\n",
    "effective_loc_atten_sst_atm = np.mean(np.divide(ens_k_atten_sst_atm, ens_k_unloc_sst_atm), axis=1)\n",
    "# ocn\n",
    "ens_k_sst_ocn  = kalman_gain_vector(ens_cov_sst_ocn, gc_rloc_sst_ocn, ens_cov_sst_sst, R_sst)\n",
    "ens_k_atten_sst_ocn  = kalman_gain_vector(ens_cov_sst_ocn, gc_rloc_atten_sst_ocn, ens_cov_sst_sst, R_sst)\n",
    "ens_k_unloc_sst_ocn  = kalman_gain_vector_no_loc(ens_cov_sst_ocn, ens_cov_sst_sst, R_sst)\n",
    "effective_loc_sst_ocn = np.mean(np.divide(ens_k_sst_ocn, ens_k_unloc_sst_ocn), axis=1)\n",
    "effective_loc_atten_sst_ocn = np.mean(np.divide(ens_k_atten_sst_ocn, ens_k_unloc_sst_ocn), axis=1)"
   ]
  },
  {
   "cell_type": "code",
   "execution_count": 59,
   "id": "06a1bddc-701e-4539-963b-17bcda4726d8",
   "metadata": {},
   "outputs": [],
   "source": [
    "# Define colors\n",
    "raisin_black       = [ 45/256,  42/256,  50/256]\n",
    "yale_blue          = [  8/256,  75/256, 131/256]\n",
    "maximum_blue       = [ 66/256, 191/256, 221/256]\n",
    "mint_green         = [173/256, 252/256, 146/256]\n",
    "golden_gate_bridge = [187/256,  68/256,  48/256]"
   ]
  },
  {
   "cell_type": "code",
   "execution_count": 61,
   "id": "2180f8f3-7542-4069-a0cb-34181e3986fd",
   "metadata": {
    "tags": []
   },
   "outputs": [
    {
     "data": {
      "image/png": "[encoded data removed]",
      "text/plain": [
       "<Figure size 576x576 with 4 Axes>"
      ]
     },
     "metadata": {
      "needs_background": "light"
     },
     "output_type": "display_data"
    }
   ],
   "source": [
    "## Create subplots\n",
    "fig, axs = plt.subplots(nrows=2, ncols=2, sharex=True, sharey='row') \n",
    "\n",
    "## AST\n",
    "# Plot atm correlations\n",
    "axs[0, 0].plot(1/r_loc_ast[:ind_sst], tp_corr['atm_p'][ind100hPa:], linewidth=5, linestyle=':',  color=yale_blue)\n",
    "axs[0, 0].plot(gc_rloc_ast_atm, tp_corr['atm_p'][ind100hPa:], linewidth=5, linestyle='-',  color=maximum_blue)\n",
    "axs[0, 0].plot(gc_rloc_atten_ast_atm, tp_corr['atm_p'][ind100hPa:], linewidth=5, linestyle='--', color=mint_green)\n",
    "\n",
    "# Plot ocn correlations\n",
    "axs[1, 0].plot(1/r_loc_ast[ind_sst:], -1 * tp_corr['ocn_z'][:ind500m_ocn], linewidth=5, linestyle=':',  color=yale_blue)\n",
    "axs[1, 0].plot(gc_rloc_ast_ocn, -1 * tp_corr['ocn_z'][:ind500m_ocn], linewidth=5, linestyle='-',  color=maximum_blue)\n",
    "axs[1, 0].plot(gc_rloc_atten_ast_ocn, -1 * tp_corr['ocn_z'][:ind500m_ocn], linewidth=5, linestyle='--', color=mint_green)\n",
    "\n",
    "## SST\n",
    "# Plot atm correlations\n",
    "axs[0, 1].plot(1/r_loc_sst[:ind_sst], tp_corr['atm_p'][ind100hPa:], linewidth=5, linestyle=':',  color=yale_blue, label='EORL')\n",
    "axs[0, 1].plot(gc_rloc_sst_atm, tp_corr['atm_p'][ind100hPa:], linewidth=5, linestyle='-',  color=maximum_blue, label='GC')\n",
    "axs[0, 1].plot(gc_rloc_atten_sst_atm, tp_corr['atm_p'][ind100hPa:], linewidth=5, linestyle='--', color=mint_green, label='GC-Atten')\n",
    "\n",
    "# Plot ocn correlations\n",
    "axs[1, 1].plot(1/r_loc_sst[ind_sst:], -1 * tp_corr['ocn_z'][:ind500m_ocn], linewidth=5, linestyle=':',  color=yale_blue)\n",
    "axs[1, 1].plot(gc_rloc_sst_ocn, -1 * tp_corr['ocn_z'][:ind500m_ocn], linewidth=5, linestyle='-',  color=maximum_blue)\n",
    "axs[1, 1].plot(gc_rloc_atten_sst_ocn, -1 * tp_corr['ocn_z'][:ind500m_ocn], linewidth=5, linestyle='--', color=mint_green)\n",
    "\n",
    "# Set titles\n",
    "axs[0,0].set_title('AST', color=raisin_black, fontsize=28)\n",
    "axs[0,1].set_title('SST', color=raisin_black, fontsize=28)\n",
    "\n",
    "# Adjust and label axes\n",
    "axs[0, 0].set_xlim([-0.1, 1.2])\n",
    "axs[0, 0].set_ylim([100,1019])\n",
    "axs[0, 0].invert_yaxis()\n",
    "axs[1, 0].set_ylim([-500,-1])\n",
    "axs[0, 0].set_ylabel('Pressure (hPa)', color=raisin_black)\n",
    "axs[1, 0].set_ylabel('Depth (m)', color=raisin_black)\n",
    "fig.supxlabel('Localization weight', color=raisin_black)\n",
    "#fig.suptitle('R-localization', color=raisin_black, fontsize=36)\n",
    "\n",
    "# Legend\n",
    "leg = fig.legend(labelcolor=raisin_black, loc='center left', bbox_to_anchor=(1, 0.5),  borderaxespad=0,  borderpad=0.25, handlelength=1, markerscale=2)\n",
    "leg.get_frame().set_edgecolor(raisin_black)\n",
    "\n",
    "# Adjust aesthetics\n",
    "plt.subplots_adjust(hspace=.0)\n",
    "for ax in axs.reshape(-1):\n",
    "    ax.grid()\n",
    "    ax.set_box_aspect(1.2)\n",
    "    ax.spines['bottom'].set_color(raisin_black)\n",
    "    ax.spines['top'].set_color(raisin_black) \n",
    "    ax.spines['right'].set_color(raisin_black)\n",
    "    ax.spines['left'].set_color(raisin_black)\n",
    "    ax.xaxis.label.set_color(raisin_black)\n",
    "    ax.yaxis.label.set_color(raisin_black)\n",
    "    ax.tick_params(colors=raisin_black, which='both') \n",
    "\n",
    "\n",
    "plt.rcParams['figure.figsize'] = [8,8]\n",
    "plt.rcParams.update({'font.sans-serif':'Georgia'})\n",
    "plt.rcParams.update({'font.size':28})\n",
    "plt.savefig(plot_dir+'/ast_sst_eorl_gcr.pdf',  bbox_inches='tight')\n",
    "plt.show()"
   ]
  },
  {
   "cell_type": "code",
   "execution_count": null,
   "id": "26c9bceb-5a23-4aad-86b8-169ff2defa2e",
   "metadata": {},
   "outputs": [],
   "source": []
  }
 ],
 "metadata": {
  "kernelspec": {
   "display_name": "Python 3 (ipykernel)",
   "language": "python",
   "name": "python3"
  },
  "language_info": {
   "codemirror_mode": {
    "name": "ipython",
    "version": 3
   },
   "file_extension": ".py",
   "mimetype": "text/x-python",
   "name": "python",
   "nbconvert_exporter": "python",
   "pygments_lexer": "ipython3",
   "version": "3.8.12"
  }
 },
 "nbformat": 4,
 "nbformat_minor": 5
}
