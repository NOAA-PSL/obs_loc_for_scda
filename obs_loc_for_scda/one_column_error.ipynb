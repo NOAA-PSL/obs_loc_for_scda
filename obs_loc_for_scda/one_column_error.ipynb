{
 "cells": [
  {
   "cell_type": "code",
   "execution_count": 1,
   "id": "e7d7be1e-5a41-4ded-b023-24e08d90a202",
   "metadata": {},
   "outputs": [],
   "source": [
    "import numpy as np\n",
    "import xarray as xr\n",
    "\n",
    "from xarray.core.alignment import align\n",
    "from scipy import optimize\n",
    "\n",
    "from ensemblecovariancecomputer import EnsembleCovarianceComputer\n",
    "from observationoperator import PointObserver\n",
    "from kalmangaincomputer import KalmanGainComputer\n",
    "from errorcomputer import OptimalErrorComputer, PracticalErrorComputer\n",
    "\n",
    "from localizationfunctions import gaspari_cohn_univariate as gaspari_cohn"
   ]
  },
  {
   "cell_type": "code",
   "execution_count": 2,
   "id": "8a02fe25-e011-491a-9f7e-f8b45c8e073b",
   "metadata": {},
   "outputs": [],
   "source": [
    "## Where are we working\n",
    "proj_dir = '/Users/zstanley/Documents/git_repos/obs_loc_for_scda'\n",
    "plot_dir = proj_dir + '/plots/optimal_loc'\n",
    "my_data_dir = proj_dir + '/my_data/20151206.030000'\n",
    "nb_dir = proj_dir + '/notebooks'"
   ]
  },
  {
   "cell_type": "code",
   "execution_count": 3,
   "id": "485666bb-6059-4887-a232-0bc5a35d7b5c",
   "metadata": {},
   "outputs": [],
   "source": [
    "ds = xr.open_dataset(my_data_dir+'/temperature_covariances_averaged_tropical_pacific.nc')\n",
    "ds = ds.sel(lon=209.5, lat=12.5)"
   ]
  },
  {
   "cell_type": "code",
   "execution_count": 4,
   "id": "3cc8eaf6-4465-4744-847d-cf37bf84cd4c",
   "metadata": {},
   "outputs": [
    {
     "name": "stderr",
     "output_type": "stream",
     "text": [
      "/Users/zstanley/Documents/git_repos/obs_loc_for_scda/obs_loc_for_scda/ensemblecovariancecomputer.py:148: UserWarning: Matrix is not positive definite. Smallest eigenvalue is -1.3284245274741694e-09\n",
      "  warnings.warn('Matrix is not positive definite. Smallest eigenvalue is ' + str(min_eval))\n"
     ]
    }
   ],
   "source": [
    "enscov =  EnsembleCovarianceComputer()\n",
    "enscov(ds)"
   ]
  },
  {
   "cell_type": "code",
   "execution_count": 5,
   "id": "90942e1c-19e5-4609-818b-84109f14b0c1",
   "metadata": {},
   "outputs": [
    {
     "data": {
      "text/plain": [
       "EnsembleCovarianceComputer:\n",
       "\n",
       "    Ensemble Covariance Matrices:\n",
       "        status = set\n",
       "\n",
       " --- \n",
       "    Ensemble Size           : 20\n",
       "    Number of Trials        : 1000"
      ]
     },
     "execution_count": 5,
     "metadata": {},
     "output_type": "execute_result"
    }
   ],
   "source": [
    "enscov"
   ]
  },
  {
   "cell_type": "code",
   "execution_count": 6,
   "id": "4f6fbb72-ef4c-44ed-a5f7-4c97e5ef00c9",
   "metadata": {},
   "outputs": [],
   "source": [
    "sst = PointObserver('sst')\n",
    "sst(enscov)"
   ]
  },
  {
   "cell_type": "code",
   "execution_count": 7,
   "id": "f2576a6c-fb71-44ee-9401-1d0e9734bf69",
   "metadata": {},
   "outputs": [
    {
     "data": {
      "text/plain": [
       "EnsembleCovarianceComputer:\n",
       "\n",
       "    Name of Observation     : sst\n",
       "    Which Fluid is Observed : ocn\n",
       "    Which Level is Observed : 0\n",
       " --- \n",
       "    Pre-defined observation types:\n",
       "        ['ast', 'sst']"
      ]
     },
     "execution_count": 7,
     "metadata": {},
     "output_type": "execute_result"
    }
   ],
   "source": [
    "sst"
   ]
  },
  {
   "cell_type": "code",
   "execution_count": 8,
   "id": "58e167f2-2dd5-4d54-a950-75a451a08422",
   "metadata": {
    "tags": []
   },
   "outputs": [
    {
     "name": "stderr",
     "output_type": "stream",
     "text": [
      "/Users/zstanley/Documents/git_repos/obs_loc_for_scda/obs_loc_for_scda/localizationfunctions.py:25: RuntimeWarning: divide by zero encountered in true_divide\n",
      "  x = np.abs(distance)/np.abs(localization_half_width)\n",
      "/Users/zstanley/Documents/git_repos/obs_loc_for_scda/obs_loc_for_scda/localizationfunctions.py:25: RuntimeWarning: invalid value encountered in true_divide\n",
      "  x = np.abs(distance)/np.abs(localization_half_width)\n",
      "/Users/zstanley/Documents/git_repos/obs_loc_for_scda/obs_loc_for_scda/errorcomputer.py:99: RuntimeWarning: divide by zero encountered in true_divide\n",
      "  loc = np.divide(1, gaspari_cohn(dist.values, (np.abs(loc_rad)/2)))\n",
      "/Users/zstanley/Documents/git_repos/obs_loc_for_scda/obs_loc_for_scda/errorcomputer.py:122: RuntimeWarning: divide by zero encountered in true_divide\n",
      "  loc = np.divide(1, loc_atten * gaspari_cohn(dist.values, (np.abs(loc_rad)/2)))\n"
     ]
    }
   ],
   "source": [
    "ec = OptimalErrorComputer(enscov)\n",
    "ec(sst)"
   ]
  },
  {
   "cell_type": "code",
   "execution_count": 9,
   "id": "3bfd4fcf-1aec-48a3-9de9-9c007f2f4aed",
   "metadata": {},
   "outputs": [],
   "source": [
    "kg = KalmanGainComputer(sst)"
   ]
  },
  {
   "cell_type": "code",
   "execution_count": 10,
   "id": "e1a89ba9-5e6c-4f87-9c4b-065ffd70ccd9",
   "metadata": {},
   "outputs": [
    {
     "data": {
      "text/plain": [
       "0.06522415105137248"
      ]
     },
     "execution_count": 10,
     "metadata": {},
     "output_type": "execute_result"
    }
   ],
   "source": [
    "kg.compute_error_true_K(level=ec.slice_atm)"
   ]
  },
  {
   "cell_type": "code",
   "execution_count": 11,
   "id": "21d7eb98-139d-4f6f-a569-d3029acec4bd",
   "metadata": {},
   "outputs": [],
   "source": [
    "pec = PracticalErrorComputer(enscov)\n",
    "pec(sst, enscov)"
   ]
  },
  {
   "cell_type": "code",
   "execution_count": 20,
   "id": "ff50af71-6042-415e-8478-2309ad189fd8",
   "metadata": {},
   "outputs": [],
   "source": [
    "my_dict = pec.__dict__.copy()\n",
    "#my_dict = ec.__dict__.copy()"
   ]
  },
  {
   "cell_type": "code",
   "execution_count": 21,
   "id": "a9d54e3d-7d01-4f40-9dd3-d12e09dd499b",
   "metadata": {},
   "outputs": [
    {
     "data": {
      "text/plain": [
       "[127, 75, slice(0, 127, 1), slice(127, 202, 1), 1000]"
      ]
     },
     "execution_count": 21,
     "metadata": {},
     "output_type": "execute_result"
    }
   ],
   "source": [
    "[my_dict.pop(x) for x in ['len_atm','len_ocn', 'slice_atm', 'slice_ocn', 'num_trials']]"
   ]
  },
  {
   "cell_type": "code",
   "execution_count": 24,
   "id": "e5a0bb0a-3adf-472c-9d2e-37717f804b9e",
   "metadata": {},
   "outputs": [
    {
     "data": {
      "text/plain": [
       "{'error_true_K_atm': 0.06522415105137248,\n",
       " 'error_true_K_ocn': 0.10304930645398098,\n",
       " 'error_unloc_atm': 0.869630457234635,\n",
       " 'error_unloc_ocn': 0.2734425115220226,\n",
       " 'error_practical_gcr_atm': 0.06904649343990676,\n",
       " 'error_practical_gcr_ocn': 0.037611803523527346,\n",
       " 'error_practical_cutoffloc_atm': 0.06618727590552041,\n",
       " 'error_practical_cutoffloc_ocn': 0.037611803523527346}"
      ]
     },
     "execution_count": 24,
     "metadata": {},
     "output_type": "execute_result"
    }
   ],
   "source": [
    "my_dict"
   ]
  },
  {
   "cell_type": "code",
   "execution_count": 14,
   "id": "132eb843-a200-4310-b4bd-8e48aae0fb7a",
   "metadata": {},
   "outputs": [],
   "source": [
    "keys = ['error_unloc_atm', 'error_unloc_ocn', 'locrad_gcr_atm', 'locrad_gcr_ocn', 'error_gcr_atm', \\\n",
    "            'error_gcr_ocn', 'locrad_gcra_atm', 'locrad_gcra_ocn', 'locatten_gcra_atm',\\\n",
    "            'locatten_gcra_ocn', 'error_gcra_atm', 'error_gcra_ocn', 'error_eorl_atm', 'error_eorl_ocn', 'error_true_K_atm', 'error_true_K_ocn']"
   ]
  },
  {
   "cell_type": "code",
   "execution_count": null,
   "id": "470d365b-437e-41a0-9edb-72a31fcaaa0b",
   "metadata": {},
   "outputs": [],
   "source": [
    "keys = ['error_true_K_atm', 'error_true_K_ocn', 'error_unloc_atm', 'error_unloc_ocn', 'error_practical_gcr_atm', 'error_practical_gcr_ocn', 'error_practical_cutoffloc_atm', 'error_practical_cutoffloc_ocn']"
   ]
  },
  {
   "cell_type": "code",
   "execution_count": null,
   "id": "0bd17c2f-bd4c-4e2f-9a32-2e6726be3d81",
   "metadata": {},
   "outputs": [],
   "source": []
  }
 ],
 "metadata": {
  "kernelspec": {
   "display_name": "Python 3 (ipykernel)",
   "language": "python",
   "name": "python3"
  },
  "language_info": {
   "codemirror_mode": {
    "name": "ipython",
    "version": 3
   },
   "file_extension": ".py",
   "mimetype": "text/x-python",
   "name": "python",
   "nbconvert_exporter": "python",
   "pygments_lexer": "ipython3",
   "version": "3.8.12"
  }
 },
 "nbformat": 4,
 "nbformat_minor": 5
}
