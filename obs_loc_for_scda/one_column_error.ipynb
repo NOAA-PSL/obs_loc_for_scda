{
 "cells": [
  {
   "cell_type": "markdown",
   "id": "1b6cd0d9-4ef6-4507-824c-bca41a0c2aa2",
   "metadata": {},
   "source": [
    "# Compute obs loc error in a single vertical column"
   ]
  },
  {
   "cell_type": "code",
   "execution_count": 13,
   "id": "e7d7be1e-5a41-4ded-b023-24e08d90a202",
   "metadata": {},
   "outputs": [],
   "source": [
    "import numpy as np\n",
    "import xarray as xr\n",
    "\n",
    "from xarray.core.alignment import align\n",
    "from scipy import optimize\n",
    "\n",
    "from ensemblecovariancecomputer import EnsembleCovarianceComputer\n",
    "from observationoperator import PointObserver\n",
    "from kalmangaincomputer import KalmanGainComputer\n",
    "from errorcomputer import OptimalErrorComputer, PracticalErrorComputer\n",
    "\n",
    "from localizationfunctions import gaspari_cohn_univariate as gaspari_cohn"
   ]
  },
  {
   "cell_type": "code",
   "execution_count": 14,
   "id": "8a02fe25-e011-491a-9f7e-f8b45c8e073b",
   "metadata": {},
   "outputs": [],
   "source": [
    "## Where are we working\n",
    "proj_dir = '/Users/zstanley/Documents/git_repos/obs_loc_for_scda'\n",
    "plot_dir = proj_dir + '/plots/optimal_loc'\n",
    "my_data_dir = proj_dir + '/my_data/20151206.030000'\n",
    "nb_dir = proj_dir + '/notebooks'"
   ]
  },
  {
   "cell_type": "code",
   "execution_count": 15,
   "id": "485666bb-6059-4887-a232-0bc5a35d7b5c",
   "metadata": {},
   "outputs": [],
   "source": [
    "ds = xr.open_dataset(my_data_dir+'/temperature_covariances_averaged_tropical_pacific.nc')\n",
    "ds = ds.sel(lon=209.5, lat=12.5)"
   ]
  },
  {
   "cell_type": "markdown",
   "id": "a5590285-c00d-4327-a13c-e89f2c64f392",
   "metadata": {},
   "source": [
    "### Compute ensemble covariances"
   ]
  },
  {
   "cell_type": "code",
   "execution_count": 16,
   "id": "3cc8eaf6-4465-4744-847d-cf37bf84cd4c",
   "metadata": {},
   "outputs": [],
   "source": [
    "enscov =  EnsembleCovarianceComputer()\n",
    "enscov(ds)"
   ]
  },
  {
   "cell_type": "code",
   "execution_count": 17,
   "id": "90942e1c-19e5-4609-818b-84109f14b0c1",
   "metadata": {},
   "outputs": [
    {
     "data": {
      "text/plain": [
       "EnsembleCovarianceComputer:\n",
       "\n",
       "    Ensemble Covariance Matrices:\n",
       "        status = set\n",
       "\n",
       " --- \n",
       "    Ensemble Size           : 20\n",
       "    Number of Trials        : 1000"
      ]
     },
     "execution_count": 17,
     "metadata": {},
     "output_type": "execute_result"
    }
   ],
   "source": [
    "enscov"
   ]
  },
  {
   "cell_type": "markdown",
   "id": "39aa675e-02ce-425f-a0fc-937dd5a7d735",
   "metadata": {},
   "source": [
    "### Define observation operators"
   ]
  },
  {
   "cell_type": "code",
   "execution_count": 18,
   "id": "4f6fbb72-ef4c-44ed-a5f7-4c97e5ef00c9",
   "metadata": {},
   "outputs": [],
   "source": [
    "sst = PointObserver('sst')\n",
    "sst(enscov)"
   ]
  },
  {
   "cell_type": "code",
   "execution_count": 19,
   "id": "ec244836-e81d-4309-b27e-29a3615bdf59",
   "metadata": {},
   "outputs": [],
   "source": [
    "ast = PointObserver('ast')\n",
    "ast(enscov)"
   ]
  },
  {
   "cell_type": "code",
   "execution_count": 20,
   "id": "f2576a6c-fb71-44ee-9401-1d0e9734bf69",
   "metadata": {},
   "outputs": [
    {
     "data": {
      "text/plain": [
       "EnsembleCovarianceComputer:\n",
       "\n",
       "    Name of Observation     : sst\n",
       "    Which Fluid is Observed : ocn\n",
       "    Which Level is Observed : 0\n",
       " --- \n",
       "    Pre-defined observation types:\n",
       "        ['ast', 'sst']"
      ]
     },
     "execution_count": 20,
     "metadata": {},
     "output_type": "execute_result"
    }
   ],
   "source": [
    "sst"
   ]
  },
  {
   "cell_type": "markdown",
   "id": "1f9d2bcd-e52e-4b38-b8bd-45e30742311c",
   "metadata": {},
   "source": [
    "### Compute error associated with 'optimal' localization strategies"
   ]
  },
  {
   "cell_type": "code",
   "execution_count": 32,
   "id": "58e167f2-2dd5-4d54-a950-75a451a08422",
   "metadata": {
    "tags": []
   },
   "outputs": [],
   "source": [
    "ec = OptimalErrorComputer(enscov)\n",
    "ec(sst) # can also compute for ast"
   ]
  },
  {
   "cell_type": "code",
   "execution_count": 33,
   "id": "e0d47c2e-f29f-4d52-a63c-4ab62e64425b",
   "metadata": {},
   "outputs": [
    {
     "data": {
      "text/plain": [
       "ErrorComputer:\n",
       "\n",
       "    Number of Trials        : 1000\n",
       " --- \n",
       "    Attributes: {'len_atm': 127, 'len_ocn': 75, 'slice_atm': slice(0, 127, 1), 'slice_ocn': slice(127, 202, 1), 'num_trials': 1000, 'error_unloc_atm': 0.8757872125181404, 'error_unloc_ocn': 0.2775805515733987, 'locrad_gcr_atm': 0.16156318308125248, 'locrad_gcr_ocn': 88.41025641164275, 'error_gcr_atm': 0.060252988518646376, 'error_gcr_ocn': 0.037804065139930336, 'locrad_gcra_atm': 0.251472887384253, 'locrad_gcra_ocn': 82.80116124234733, 'locatten_gcra_atm': 0.4704406738281247, 'locatten_gcra_ocn': 1.2376699038431966, 'error_gcra_atm': 0.058880400994226464, 'error_gcra_ocn': 0.03736043506457915, 'error_eorl_atm': 0.05226892398974565, 'error_eorl_ocn': 0.03603773972321351, 'error_true_K_atm': 0.06522415105137248, 'error_true_K_ocn': 0.10304930645398098}"
      ]
     },
     "execution_count": 33,
     "metadata": {},
     "output_type": "execute_result"
    }
   ],
   "source": [
    "ec"
   ]
  },
  {
   "cell_type": "markdown",
   "id": "4ca5e995-a677-430d-adb3-50ac4e72be75",
   "metadata": {},
   "source": [
    "### Compute error associated with 'practical' localization strategies"
   ]
  },
  {
   "cell_type": "code",
   "execution_count": 27,
   "id": "21d7eb98-139d-4f6f-a569-d3029acec4bd",
   "metadata": {},
   "outputs": [],
   "source": [
    "pec = PracticalErrorComputer(enscov)\n",
    "pec(sst, enscov)"
   ]
  },
  {
   "cell_type": "code",
   "execution_count": 28,
   "id": "3a9d254d-ede7-4593-a76b-5228d91fbf74",
   "metadata": {},
   "outputs": [
    {
     "data": {
      "text/plain": [
       "ErrorComputer:\n",
       "\n",
       "    Number of Trials        : 1000\n",
       " --- \n",
       "    Attributes: {'len_atm': 127, 'len_ocn': 75, 'slice_atm': slice(0, 127, 1), 'slice_ocn': slice(127, 202, 1), 'num_trials': 1000, 'locrad_atm': 0.1, 'locrad_ocn': 130, 'error_true_K_atm': 0.06522415105137248, 'error_true_K_ocn': 0.10304930645398098, 'error_unloc_atm': 0.8757872125181404, 'error_unloc_ocn': 0.2775805515733987, 'error_practical_gcr_atm': 0.06063369909518203, 'error_practical_gcr_ocn': 0.0573194716672477, 'error_practical_cutoffloc_atm': 0.06089807990568445, 'error_practical_cutoffloc_ocn': 0.05731947166724771, 'error_truecorr_cutoffloc_atm': 0.06063369909518203, 'error_truecorr_cutoffloc_ocn': 0.0573194716672477}"
      ]
     },
     "execution_count": 28,
     "metadata": {},
     "output_type": "execute_result"
    }
   ],
   "source": [
    "pec"
   ]
  },
  {
   "cell_type": "code",
   "execution_count": null,
   "id": "0bd17c2f-bd4c-4e2f-9a32-2e6726be3d81",
   "metadata": {},
   "outputs": [],
   "source": []
  }
 ],
 "metadata": {
  "kernelspec": {
   "display_name": "Python 3 (ipykernel)",
   "language": "python",
   "name": "python3"
  },
  "language_info": {
   "codemirror_mode": {
    "name": "ipython",
    "version": 3
   },
   "file_extension": ".py",
   "mimetype": "text/x-python",
   "name": "python",
   "nbconvert_exporter": "python",
   "pygments_lexer": "ipython3",
   "version": "3.8.12"
  }
 },
 "nbformat": 4,
 "nbformat_minor": 5
}
